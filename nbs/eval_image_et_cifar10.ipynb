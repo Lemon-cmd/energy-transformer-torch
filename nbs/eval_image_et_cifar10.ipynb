{
 "cells": [
  {
   "cell_type": "code",
   "execution_count": 1,
   "id": "5a404851-c1e9-4935-b0a9-5466005855d3",
   "metadata": {},
   "outputs": [],
   "source": [
    "import os, tqdm\n",
    "\n",
    "import torch\n",
    "import argparse\n",
    "import pprint, ast\n",
    "import numpy as np\n",
    "import torchvision\n",
    "from torchvision import transforms\n",
    "from einops import reduce\n",
    "from functools import partial\n",
    "from image_et import ImageET as ET, Patch, GetCIFAR, count_parameters, device, gen_mask_id\n",
    "from torch.utils.data.dataloader import DataLoader"
   ]
  },
  {
   "cell_type": "code",
   "execution_count": 2,
   "id": "94b34d0e-7ec1-4a6d-be84-86e1992ab64d",
   "metadata": {},
   "outputs": [
    {
     "name": "stdout",
     "output_type": "stream",
     "text": [
      "Files already downloaded and verified\n",
      "Files already downloaded and verified\n"
     ]
    }
   ],
   "source": [
    "trainset, testset, unnormalize_fn = GetCIFAR('../data/', 'CIFAR10')"
   ]
  },
  {
   "cell_type": "code",
   "execution_count": 3,
   "id": "568bc766-5ac1-4eb8-9e6b-9568302cb6f2",
   "metadata": {},
   "outputs": [
    {
     "name": "stdout",
     "output_type": "stream",
     "text": [
      "{'alpha': 5.0,\n",
      " 'attn_beta': 16.0,\n",
      " 'attn_bias': False,\n",
      " 'avg_gpu': True,\n",
      " 'b1': 0.99,\n",
      " 'b2': 0.999,\n",
      " 'batch_size': 512,\n",
      " 'blocks': 1,\n",
      " 'data_name': 'CIFAR10',\n",
      " 'data_path': '../data',\n",
      " 'epochs': 10000,\n",
      " 'hn_bias': False,\n",
      " 'hn_mult': 4.0,\n",
      " 'kernel_size': 4,\n",
      " 'learning_rate': 5e-05,\n",
      " 'mask_ratio': 0.85,\n",
      " 'nheads': 12,\n",
      " 'num_workers': 4,\n",
      " 'out_dim': None,\n",
      " 'qk_dim': 64,\n",
      " 'result_path': './results',\n",
      " 'time_steps': 12,\n",
      " 'tkn_dim': 768,\n",
      " 'weight_decay': 0.001}\n"
     ]
    }
   ],
   "source": [
    "#FOLDER = './image_et/example_model'\n",
    "FOLDER = './example_model'\n",
    "\n",
    "f = open(FOLDER + \"/model_config.txt\", \"r\")\n",
    "config = ast.literal_eval(f.read())\n",
    "pprint.pprint(config)\n",
    "f.close()"
   ]
  },
  {
   "cell_type": "code",
   "execution_count": 4,
   "id": "0d9cc579-5a98-4853-960b-f082c0cff643",
   "metadata": {},
   "outputs": [
    {
     "name": "stdout",
     "output_type": "stream",
     "text": [
      "PARAM COUNT: 3667249 \n",
      "\n"
     ]
    },
    {
     "data": {
      "text/plain": [
       "ET(\n",
       "  (patch): Patch(\n",
       "    (transform): Lambda()\n",
       "    (revert): Lambda()\n",
       "  )\n",
       "  (encode): Sequential(\n",
       "    (0): Linear(in_features=48, out_features=768, bias=True)\n",
       "  )\n",
       "  (decode): Sequential(\n",
       "    (0): LayerNorm((768,), eps=768, elementwise_affine=True)\n",
       "    (1): Linear(in_features=768, out_features=48, bias=True)\n",
       "  )\n",
       "  (pos): PositionEncode()\n",
       "  (blocks): ModuleList(\n",
       "    (0): ModuleList(\n",
       "      (0): EnergyLayerNorm()\n",
       "      (1): ETBlock(\n",
       "        (hn): Hopfield(\n",
       "          (fn): Lambda()\n",
       "          (proj): Linear(in_features=768, out_features=3072, bias=False)\n",
       "        )\n",
       "        (attn): Attention()\n",
       "      )\n",
       "    )\n",
       "  )\n",
       ")"
      ]
     },
     "execution_count": 4,
     "metadata": {},
     "output_type": "execute_result"
    }
   ],
   "source": [
    "x = torch.randn(1, 3, 32, 32)\n",
    "\n",
    "model = ET(\n",
    "    x,\n",
    "    Patch(config['kernel_size']),\n",
    "    config[\"out_dim\"],\n",
    "    config[\"tkn_dim\"],\n",
    "    config[\"qk_dim\"],\n",
    "    config[\"nheads\"],\n",
    "    config[\"hn_mult\"],\n",
    "    config[\"attn_beta\"],\n",
    "    config[\"attn_bias\"],\n",
    "    config[\"hn_bias\"],\n",
    "    time_steps=config[\"time_steps\"],\n",
    "    blocks=config[\"blocks\"],\n",
    ")\n",
    "\n",
    "print('PARAM COUNT:', count_parameters(model), '\\n')\n",
    "\n",
    "model.load_state_dict(torch.load(FOLDER + '/model.pth'))\n",
    "model.eval()"
   ]
  },
  {
   "cell_type": "code",
   "execution_count": 5,
   "id": "af8e8000-a5c2-40e9-9680-9c47430b8ca9",
   "metadata": {},
   "outputs": [],
   "source": [
    "patch_fn = model.patch\n",
    "\n",
    "ALPHA = config['alpha']\n",
    "DEVICE = device()\n",
    "MASK_RATIO = 0.5\n",
    "NUM_PATCH = patch_fn(x).size(1)"
   ]
  },
  {
   "cell_type": "code",
   "execution_count": 6,
   "id": "1fc850a0-778a-4c77-9f65-dc1a4d47e301",
   "metadata": {},
   "outputs": [
    {
     "name": "stdout",
     "output_type": "stream",
     "text": [
      "cuda\n"
     ]
    }
   ],
   "source": [
    "model = model.to(DEVICE)\n",
    "print(DEVICE)"
   ]
  },
  {
   "cell_type": "markdown",
   "id": "e1eb68cf-bf20-4465-a6c3-c3edccfbdad3",
   "metadata": {},
   "source": [
    "# VISUALIZE TOKEN EVOLUTION"
   ]
  },
  {
   "cell_type": "code",
   "execution_count": 15,
   "id": "35656bf8-11a2-4c75-b05a-62947a022020",
   "metadata": {},
   "outputs": [],
   "source": [
    "import imageio, matplotlib.pyplot as plt\n",
    "\n",
    "test_loader = DataLoader(testset, shuffle=True, batch_size = 32)\n",
    "\n",
    "for x, _ in test_loader:\n",
    "    x = x.to(DEVICE)\n",
    "    mask_id = gen_mask_id(NUM_PATCH, int(MASK_RATIO * NUM_PATCH), 1).to(DEVICE)\n",
    "    energy, embeddings = model.visualize(x, mask_id, ALPHA)\n",
    "    break\n",
    "\n",
    "energy = [e.detach().cpu() for e in energy]\n",
    "embeddings = [unnormalize_fn(e.detach().cpu()) for e in embeddings]"
   ]
  },
  {
   "cell_type": "code",
   "execution_count": 16,
   "id": "5a1324e1-4792-4ab1-8dc2-b12e1b380b94",
   "metadata": {},
   "outputs": [
    {
     "data": {
      "image/png": "[encoded data removed]",
      "text/plain": [
       "<Figure size 640x480 with 1 Axes>"
      ]
     },
     "metadata": {},
     "output_type": "display_data"
    }
   ],
   "source": [
    "plt.title('The Sum of Energy Across All Samples Over Time')\n",
    "plt.plot(energy)\n",
    "plt.show()"
   ]
  },
  {
   "cell_type": "code",
   "execution_count": 18,
   "id": "c6044671-6158-44c1-9ec4-ada8243eb17f",
   "metadata": {},
   "outputs": [],
   "source": [
    "for img_id in range(min(x.size(0), 16)):\n",
    "    with imageio.get_writer('./animations/ex_{0}.gif'.format(img_id), format=\"GIF\", mode='I', duration= 1 / 5000) as writer:\n",
    "        for i in range(len(embeddings)):\n",
    "            image = transforms.Resize((128, 128), antialias=False, interpolation=transforms.InterpolationMode.NEAREST)(embeddings[i][img_id]).permute(1, 2, 0) + 1e-8\n",
    "            image.clamp_(0, 255)\n",
    "            image = image.to(\"cpu\", torch.uint8).numpy()\n",
    "            writer.append_data(image)"
   ]
  }
 ],
 "metadata": {
  "kernelspec": {
   "display_name": "Python 3 (ipykernel)",
   "language": "python",
   "name": "python3"
  },
  "language_info": {
   "codemirror_mode": {
    "name": "ipython",
    "version": 3
   },
   "file_extension": ".py",
   "mimetype": "text/x-python",
   "name": "python",
   "nbconvert_exporter": "python",
   "pygments_lexer": "ipython3",
   "version": "3.11.4"
  }
 },
 "nbformat": 4,
 "nbformat_minor": 5
}
